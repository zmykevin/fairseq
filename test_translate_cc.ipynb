{
 "cells": [
  {
   "cell_type": "code",
   "execution_count": 1,
   "metadata": {},
   "outputs": [],
   "source": [
    "import torch\n",
    "import os\n",
    "import json\n",
    "import tqdm"
   ]
  },
  {
   "cell_type": "code",
   "execution_count": null,
   "metadata": {},
   "outputs": [
    {
     "name": "stderr",
     "output_type": "stream",
     "text": [
      "Using cache found in /home/zmykevin/.cache/torch/hub/pytorch_fairseq_master\n"
     ]
    }
   ],
   "source": [
    "en2de = torch.hub.load('pytorch/fairseq', 'transformer.wmt19.en-de',tokenizer='moses', bpe='fastbpe',checkpoint_file='model1.pt:model2.pt:model3.pt:model4.pt')\n",
    "en2de.eval()\n",
    "\n",
    "en2de.cuda()"
   ]
  },
  {
   "cell_type": "code",
   "execution_count": null,
   "metadata": {},
   "outputs": [],
   "source": [
    "data_path = \"/home/zmykevin/multilingual_VL/data/CC/annotations\"\n",
    "de_cc_path = '/'.join([data_path, \"dataset_cc_de.json\"])\n",
    "\n",
    "with open(de_cc_path, \"r\") as f:\n",
    "    cc_data_de = json.load(f)\n",
    "print(len(cc_data_de[\"images\"]))"
   ]
  },
  {
   "cell_type": "code",
   "execution_count": 14,
   "metadata": {},
   "outputs": [],
   "source": [
    "data_path = \"/home/zmykevin/multilingual_VL/data/CC/annotations\"\n",
    "valid_cc_annotation = '/'.join([data_path, \"dataset_cc.json\"])\n",
    "\n",
    "with open(valid_cc_annotation, \"r\") as f:\n",
    "    cc_data = json.load(f)"
   ]
  },
  {
   "cell_type": "code",
   "execution_count": 15,
   "metadata": {},
   "outputs": [
    {
     "name": "stdout",
     "output_type": "stream",
     "text": [
      "{'imgid': 0, 'sentences': [{'tokens': ['a', 'very', 'typical', 'bus', 'station'], 'raw': 'a very typical bus station', 'deptree': [[4, 0], [2, 1], [4, 2], [4, 3], [-1, 4]]}], 'filename': '00000000.jpg', 'split': 'train'}\n"
     ]
    }
   ],
   "source": [
    "cc_data_origin = cc_data['images'].copy()\n",
    "cc_imgs = cc_data['images']\n",
    "print(cc_imgs[0])\n",
    "# for img in cc_imgs:\n",
    "#     caption = img[]\n",
    "#     break\n",
    "#cc_data_de = cc_data.copy()"
   ]
  },
  {
   "cell_type": "code",
   "execution_count": 16,
   "metadata": {},
   "outputs": [
    {
     "name": "stdout",
     "output_type": "stream",
     "text": [
      "['eine sehr typische Bushaltestelle', 'Sierra sah in diesem Top und diesem Rock umwerfend aus, während sie mit einer Person an ihrer ehemaligen Universität auftrat', 'junges verwirrtes Mädchen steht vor einem Kleiderschrank', 'Innenarchitektur des modernen Wohnzimmers mit Kamin in einem neuen Haus', 'kybernetische Szene isoliert auf weißem Hintergrund.', 'Gangsta-Rap-Künstler besucht Sportteam gegen Playoff-Spiel im Bezirk.', 'der Steg: verschiedene Arten von Pflanzen, um eine Vielzahl von Ökosystemen zu etablieren.', 'traditionelle dekorative Blumen Paisley Bandanna.', '# der Sportmannschaft läuft während des Spiels gegen die Sportmannschaft.', 'nach geographischen Merkmalen oder in der Stadt - eine Kuppel für jede Umgebung', 'Ein Flug war unterwegs, als das Tier in der Nacht zum Dienstag frei kam', 'Obwohl die landwirtschaftlichen Bedingungen für den Tabakanbau nicht ideal sind, gibt es eine einheimische Produktion.', 'us state spricht während einer Demonstration am Donnerstag.', 'Schauspieler kommt zur Premiere des Films', 'Promis schmücken sich für die Weihnachtszeit', 'Regierungsfunktionen: 1. eine vollkommenere Union bilden', 'Schauspieler kommt zur Premiere der neuen Staffel', 'American Football-Spieler auf dem Feld während des gemeinsamen Trainingslagers.', 'Unternehmen sind wegen des Rechts zu lügen vor Gericht gezogen', 'Alle Aufnahmen von Personen und Fahrern sind auf seiner Website zu finden.', 'Foto von einem Reh und Flächenbrand', 'Ein Geschäftsmann, der auf einem Tisch liegt und singt', 'Das ist echtes Fast Food!', 'Tresor mit Geld drumherum auf weißem Hintergrund Foto', 'Die Giraffe, bevor sie erschossen wurde, wurde dann im Beisein der Zoobesucher obduziert, trotz einer Online-Petition zu seiner Rettung, die von tausenden Tierfreunden unterzeichnet wurde.', 'Dünen legen die Blaupause für die Back Nine.', 'Porträt einer lächelnden Frau, die ihren Hund streichelt, der auf der Couch liegt', 'junge Geschäftsfrau auf einer Bank', 'American Football Spieler schaut während der zweiten Hälfte eines Fußballspiels gegen Sportteam nach unten', '... und Menschen vor Ort, um eine neue Brücke zu bauen', 'Schauspieler kommt zur Premiere', 'Lustige Tiere der Woche, Tierbilder']\n",
      "eine sehr typische Bushaltestelle\n",
      "[{'tokens': ['eine', 'sehr', 'typische', 'Bushaltestelle'], 'raw': 'eine sehr typische Bushaltestelle', 'deptree': [[4, 0], [2, 1], [4, 2], [4, 3], [-1, 4]]}]\n",
      "0\n",
      "Sierra sah in diesem Top und diesem Rock umwerfend aus, während sie mit einer Person an ihrer ehemaligen Universität auftrat\n",
      "[{'tokens': ['Sierra', 'sah', 'in', 'diesem', 'Top', 'und', 'diesem', 'Rock', 'umwerfend', 'aus,', 'während', 'sie', 'mit', 'einer', 'Person', 'an', 'ihrer', 'ehemaligen', 'Universität', 'auftrat'], 'raw': 'Sierra sah in diesem Top und diesem Rock umwerfend aus, während sie mit einer Person an ihrer ehemaligen Universität auftrat', 'deptree': [[1, 0], [2, 1], [3, 2], [-1, 3], [3, 4], [7, 5], [7, 6], [4, 7], [10, 8], [10, 9], [7, 10], [12, 11], [3, 12], [14, 13], [12, 14], [18, 15], [18, 16], [18, 17], [12, 18]]}]\n",
      "1\n",
      "junges verwirrtes Mädchen steht vor einem Kleiderschrank\n",
      "[{'tokens': ['junges', 'verwirrtes', 'Mädchen', 'steht', 'vor', 'einem', 'Kleiderschrank'], 'raw': 'junges verwirrtes Mädchen steht vor einem Kleiderschrank', 'deptree': [[2, 0], [2, 1], [-1, 2], [2, 3], [5, 4], [3, 5], [8, 6], [8, 7], [5, 8]]}]\n",
      "2\n",
      "Innenarchitektur des modernen Wohnzimmers mit Kamin in einem neuen Haus\n",
      "[{'tokens': ['Innenarchitektur', 'des', 'modernen', 'Wohnzimmers', 'mit', 'Kamin', 'in', 'einem', 'neuen', 'Haus'], 'raw': 'Innenarchitektur des modernen Wohnzimmers mit Kamin in einem neuen Haus', 'deptree': [[1, 0], [-1, 1], [5, 2], [5, 3], [5, 4], [1, 5], [7, 6], [5, 7], [11, 8], [11, 9], [11, 10], [1, 11]]}]\n",
      "3\n",
      "kybernetische Szene isoliert auf weißem Hintergrund.\n",
      "[{'tokens': ['kybernetische', 'Szene', 'isoliert', 'auf', 'weißem', 'Hintergrund.'], 'raw': 'kybernetische Szene isoliert auf weißem Hintergrund.', 'deptree': [[-1, 0], [0, 1], [5, 2], [5, 3], [5, 4], [0, 5], [5, 6], [9, 7], [9, 8], [6, 9], [0, 10]]}]\n",
      "4\n",
      "Gangsta-Rap-Künstler besucht Sportteam gegen Playoff-Spiel im Bezirk.\n",
      "[{'tokens': ['Gangsta-Rap-Künstler', 'besucht', 'Sportteam', 'gegen', 'Playoff-Spiel', 'im', 'Bezirk.'], 'raw': 'Gangsta-Rap-Künstler besucht Sportteam gegen Playoff-Spiel im Bezirk.', 'deptree': [[4, 0], [3, 1], [3, 2], [0, 3], [-1, 4], [6, 5], [4, 6], [9, 7], [9, 8], [6, 9], [12, 10], [12, 11], [4, 12], [4, 13]]}]\n",
      "5\n",
      "der Steg: verschiedene Arten von Pflanzen, um eine Vielzahl von Ökosystemen zu etablieren.\n",
      "[{'tokens': ['der', 'Steg:', 'verschiedene', 'Arten', 'von', 'Pflanzen,', 'um', 'eine', 'Vielzahl', 'von', 'Ökosystemen', 'zu', 'etablieren.'], 'raw': 'der Steg: verschiedene Arten von Pflanzen, um eine Vielzahl von Ökosystemen zu etablieren.', 'deptree': [[2, 0], [2, 1], [-1, 2], [2, 3], [5, 4], [2, 5], [7, 6], [5, 7], [9, 8], [5, 9], [11, 10], [9, 11], [13, 12], [11, 13], [2, 14]]}]\n",
      "6\n",
      "traditionelle dekorative Blumen Paisley Bandanna.\n",
      "[{'tokens': ['traditionelle', 'dekorative', 'Blumen', 'Paisley', 'Bandanna.'], 'raw': 'traditionelle dekorative Blumen Paisley Bandanna.', 'deptree': [[7, 0], [3, 1], [3, 2], [7, 3], [7, 4], [7, 5], [7, 6], [-1, 7], [7, 8]]}]\n",
      "7\n",
      "# der Sportmannschaft läuft während des Spiels gegen die Sportmannschaft.\n",
      "[{'tokens': ['#', 'der', 'Sportmannschaft', 'läuft', 'während', 'des', 'Spiels', 'gegen', 'die', 'Sportmannschaft.'], 'raw': '# der Sportmannschaft läuft während des Spiels gegen die Sportmannschaft.', 'deptree': [[5, 0], [4, 1], [4, 2], [4, 3], [0, 4], [-1, 5], [5, 6], [9, 7], [9, 8], [5, 9], [12, 10], [12, 11], [5, 12], [5, 13]]}]\n",
      "8\n",
      "nach geographischen Merkmalen oder in der Stadt - eine Kuppel für jede Umgebung\n",
      "[{'tokens': ['nach', 'geographischen', 'Merkmalen', 'oder', 'in', 'der', 'Stadt', '-', 'eine', 'Kuppel', 'für', 'jede', 'Umgebung'], 'raw': 'nach geographischen Merkmalen oder in der Stadt - eine Kuppel für jede Umgebung', 'deptree': [[3, 0], [3, 1], [3, 2], [-1, 3], [7, 4], [7, 5], [7, 6], [3, 7], [10, 8], [10, 9], [3, 10], [13, 11], [13, 12], [10, 13]]}]\n",
      "9\n",
      "Ein Flug war unterwegs, als das Tier in der Nacht zum Dienstag frei kam\n",
      "[{'tokens': ['Ein', 'Flug', 'war', 'unterwegs,', 'als', 'das', 'Tier', 'in', 'der', 'Nacht', 'zum', 'Dienstag', 'frei', 'kam'], 'raw': 'Ein Flug war unterwegs, als das Tier in der Nacht zum Dienstag frei kam', 'deptree': [[1, 0], [3, 1], [3, 2], [-1, 3], [7, 4], [6, 5], [7, 6], [3, 7], [7, 8], [11, 9], [11, 10], [8, 11], [13, 12], [7, 13]]}]\n",
      "10\n",
      "Obwohl die landwirtschaftlichen Bedingungen für den Tabakanbau nicht ideal sind, gibt es eine einheimische Produktion.\n",
      "[{'tokens': ['Obwohl', 'die', 'landwirtschaftlichen', 'Bedingungen', 'für', 'den', 'Tabakanbau', 'nicht', 'ideal', 'sind,', 'gibt', 'es', 'eine', 'einheimische', 'Produktion.'], 'raw': 'Obwohl die landwirtschaftlichen Bedingungen für den Tabakanbau nicht ideal sind, gibt es eine einheimische Produktion.', 'deptree': [[6, 0], [6, 1], [3, 2], [6, 3], [6, 4], [6, 5], [12, 6], [8, 7], [6, 8], [8, 9], [12, 10], [12, 11], [-1, 12], [14, 13], [12, 14], [12, 15]]}]\n",
      "11\n",
      "us state spricht während einer Demonstration am Donnerstag.\n",
      "[{'tokens': ['us', 'state', 'spricht', 'während', 'einer', 'Demonstration', 'am', 'Donnerstag.'], 'raw': 'us state spricht während einer Demonstration am Donnerstag.', 'deptree': [[2, 0], [2, 1], [-1, 2], [5, 3], [5, 4], [2, 5], [7, 6], [5, 7], [5, 8], [2, 9]]}]\n",
      "12\n",
      "Schauspieler kommt zur Premiere des Films\n",
      "[{'tokens': ['Schauspieler', 'kommt', 'zur', 'Premiere', 'des', 'Films'], 'raw': 'Schauspieler kommt zur Premiere des Films', 'deptree': [[1, 0], [-1, 1], [4, 2], [4, 3], [1, 4], [7, 5], [7, 6], [4, 7]]}]\n",
      "13\n",
      "Promis schmücken sich für die Weihnachtszeit\n",
      "[{'tokens': ['Promis', 'schmücken', 'sich', 'für', 'die', 'Weihnachtszeit'], 'raw': 'Promis schmücken sich für die Weihnachtszeit', 'deptree': [[1, 0], [-1, 1], [3, 2], [4, 3], [1, 4], [11, 5], [11, 6], [8, 7], [10, 8], [10, 9], [11, 10], [1, 11]]}]\n",
      "14\n",
      "Regierungsfunktionen: 1. eine vollkommenere Union bilden\n",
      "[{'tokens': ['Regierungsfunktionen:', '1.', 'eine', 'vollkommenere', 'Union', 'bilden'], 'raw': 'Regierungsfunktionen: 1. eine vollkommenere Union bilden', 'deptree': [[-1, 0], [2, 1], [0, 2], [0, 3], [6, 4], [4, 5], [0, 6], [10, 7], [9, 8], [10, 9], [6, 10]]}]\n",
      "15\n",
      "Schauspieler kommt zur Premiere der neuen Staffel\n",
      "[{'tokens': ['Schauspieler', 'kommt', 'zur', 'Premiere', 'der', 'neuen', 'Staffel'], 'raw': 'Schauspieler kommt zur Premiere der neuen Staffel', 'deptree': [[1, 0], [-1, 1], [3, 2], [1, 3], [5, 4], [3, 5]]}]\n",
      "16\n",
      "American Football-Spieler auf dem Feld während des gemeinsamen Trainingslagers.\n",
      "[{'tokens': ['American', 'Football-Spieler', 'auf', 'dem', 'Feld', 'während', 'des', 'gemeinsamen', 'Trainingslagers.'], 'raw': 'American Football-Spieler auf dem Feld während des gemeinsamen Trainingslagers.', 'deptree': [[4, 0], [4, 1], [4, 2], [4, 3], [-1, 4], [7, 5], [7, 6], [4, 7], [11, 8], [10, 9], [11, 10], [4, 11], [4, 12]]}]\n",
      "17\n",
      "Unternehmen sind wegen des Rechts zu lügen vor Gericht gezogen\n",
      "[{'tokens': ['Unternehmen', 'sind', 'wegen', 'des', 'Rechts', 'zu', 'lügen', 'vor', 'Gericht', 'gezogen'], 'raw': 'Unternehmen sind wegen des Rechts zu lügen vor Gericht gezogen', 'deptree': [[2, 0], [2, 1], [-1, 2], [4, 3], [2, 4], [7, 5], [7, 6], [2, 7], [9, 8], [7, 9]]}]\n",
      "18\n",
      "Alle Aufnahmen von Personen und Fahrern sind auf seiner Website zu finden.\n",
      "[{'tokens': ['Alle', 'Aufnahmen', 'von', 'Personen', 'und', 'Fahrern', 'sind', 'auf', 'seiner', 'Website', 'zu', 'finden.'], 'raw': 'Alle Aufnahmen von Personen und Fahrern sind auf seiner Website zu finden.', 'deptree': [[1, 0], [10, 1], [4, 2], [4, 3], [1, 4], [7, 5], [7, 6], [4, 7], [10, 8], [10, 9], [-1, 10], [13, 11], [13, 12], [10, 13], [10, 14]]}]\n",
      "19\n",
      "Foto von einem Reh und Flächenbrand\n",
      "[{'tokens': ['Foto', 'von', 'einem', 'Reh', 'und', 'Flächenbrand'], 'raw': 'Foto von einem Reh und Flächenbrand', 'deptree': [[-1, 0], [3, 1], [3, 2], [0, 3], [6, 4], [6, 5], [3, 6]]}]\n",
      "20\n",
      "Ein Geschäftsmann, der auf einem Tisch liegt und singt\n",
      "[{'tokens': ['Ein', 'Geschäftsmann,', 'der', 'auf', 'einem', 'Tisch', 'liegt', 'und', 'singt'], 'raw': 'Ein Geschäftsmann, der auf einem Tisch liegt und singt', 'deptree': [[1, 0], [2, 1], [-1, 2], [5, 3], [5, 4], [2, 5], [5, 6], [9, 7], [9, 8], [6, 9], [11, 10], [9, 11]]}]\n",
      "21\n",
      "Das ist echtes Fast Food!\n",
      "[{'tokens': ['Das', 'ist', 'echtes', 'Fast', 'Food!'], 'raw': 'Das ist echtes Fast Food!', 'deptree': [[4, 0], [4, 1], [4, 2], [4, 3], [-1, 4], [4, 5]]}]\n",
      "22\n",
      "Tresor mit Geld drumherum auf weißem Hintergrund Foto\n",
      "[{'tokens': ['Tresor', 'mit', 'Geld', 'drumherum', 'auf', 'weißem', 'Hintergrund', 'Foto'], 'raw': 'Tresor mit Geld drumherum auf weißem Hintergrund Foto', 'deptree': [[1, 0], [-1, 1], [3, 2], [1, 3], [5, 4], [3, 5], [10, 6], [10, 7], [9, 8], [10, 9], [1, 10]]}]\n",
      "23\n",
      "Die Giraffe, bevor sie erschossen wurde, wurde dann im Beisein der Zoobesucher obduziert, trotz einer Online-Petition zu seiner Rettung, die von tausenden Tierfreunden unterzeichnet wurde.\n",
      "[{'tokens': ['Die', 'Giraffe,', 'bevor', 'sie', 'erschossen', 'wurde,', 'wurde', 'dann', 'im', 'Beisein', 'der', 'Zoobesucher', 'obduziert,', 'trotz', 'einer', 'Online-Petition', 'zu', 'seiner', 'Rettung,', 'die', 'von', 'tausenden', 'Tierfreunden', 'unterzeichnet', 'wurde.'], 'raw': 'Die Giraffe, bevor sie erschossen wurde, wurde dann im Beisein der Zoobesucher obduziert, trotz einer Online-Petition zu seiner Rettung, die von tausenden Tierfreunden unterzeichnet wurde.', 'deptree': [[3, 0], [3, 1], [3, 2], [12, 3], [7, 4], [7, 5], [7, 6], [12, 7], [7, 8], [12, 9], [11, 10], [12, 11], [-1, 12], [15, 13], [15, 14], [12, 15], [21, 16], [18, 17], [21, 18], [21, 19], [18, 20], [15, 21], [12, 22], [26, 23], [26, 24], [26, 25], [12, 26], [28, 27], [26, 28], [28, 29], [28, 30], [32, 31], [30, 32], [35, 33], [35, 34], [32, 35]]}]\n",
      "24\n",
      "Dünen legen die Blaupause für die Back Nine.\n",
      "[{'tokens': ['Dünen', 'legen', 'die', 'Blaupause', 'für', 'die', 'Back', 'Nine.'], 'raw': 'Dünen legen die Blaupause für die Back Nine.', 'deptree': [[1, 0], [-1, 1], [4, 2], [4, 3], [1, 4], [8, 5], [8, 6], [1, 7], [1, 8], [1, 9]]}]\n",
      "25\n",
      "Porträt einer lächelnden Frau, die ihren Hund streichelt, der auf der Couch liegt\n",
      "[{'tokens': ['Porträt', 'einer', 'lächelnden', 'Frau,', 'die', 'ihren', 'Hund', 'streichelt,', 'der', 'auf', 'der', 'Couch', 'liegt'], 'raw': 'Porträt einer lächelnden Frau, die ihren Hund streichelt, der auf der Couch liegt', 'deptree': [[-1, 0], [4, 1], [4, 2], [4, 3], [0, 4], [4, 5], [7, 6], [5, 7], [5, 8], [10, 9], [8, 10]]}]\n",
      "26\n",
      "junge Geschäftsfrau auf einer Bank\n",
      "[{'tokens': ['junge', 'Geschäftsfrau', 'auf', 'einer', 'Bank'], 'raw': 'junge Geschäftsfrau auf einer Bank', 'deptree': [[2, 0], [2, 1], [-1, 2], [5, 3], [5, 4], [2, 5]]}]\n",
      "27\n",
      "American Football Spieler schaut während der zweiten Hälfte eines Fußballspiels gegen Sportteam nach unten\n",
      "[{'tokens': ['American', 'Football', 'Spieler', 'schaut', 'während', 'der', 'zweiten', 'Hälfte', 'eines', 'Fußballspiels', 'gegen', 'Sportteam', 'nach', 'unten'], 'raw': 'American Football Spieler schaut während der zweiten Hälfte eines Fußballspiels gegen Sportteam nach unten', 'deptree': [[5, 0], [4, 1], [4, 2], [4, 3], [5, 4], [-1, 5], [5, 6], [5, 7], [11, 8], [11, 9], [11, 10], [5, 11], [15, 12], [15, 13], [15, 14], [11, 15], [18, 16], [18, 17], [15, 18]]}]\n",
      "28\n",
      "... und Menschen vor Ort, um eine neue Brücke zu bauen\n",
      "[{'tokens': ['...', 'und', 'Menschen', 'vor', 'Ort,', 'um', 'eine', 'neue', 'Brücke', 'zu', 'bauen'], 'raw': '... und Menschen vor Ort, um eine neue Brücke zu bauen', 'deptree': [[5, 0], [5, 1], [5, 2], [5, 3], [5, 4], [-1, 5], [7, 6], [5, 7], [10, 8], [10, 9], [7, 10]]}]\n",
      "29\n",
      "Schauspieler kommt zur Premiere\n",
      "[{'tokens': ['Schauspieler', 'kommt', 'zur', 'Premiere'], 'raw': 'Schauspieler kommt zur Premiere', 'deptree': [[1, 0], [-1, 1], [4, 2], [4, 3], [1, 4]]}]\n",
      "30\n",
      "Lustige Tiere der Woche, Tierbilder\n",
      "[{'tokens': ['Lustige', 'Tiere', 'der', 'Woche,', 'Tierbilder'], 'raw': 'Lustige Tiere der Woche, Tierbilder', 'deptree': [[1, 0], [-1, 1], [4, 2], [4, 3], [1, 4], [1, 5], [7, 6], [1, 7]]}]\n",
      "31\n",
      "Finish translation of 300 data in 1.9601139470469207 seconds\n"
     ]
    }
   ],
   "source": [
    "from progressbar import ProgressBar\n",
    "import time\n",
    "\n",
    "pbar = ProgressBar()\n",
    "\n",
    "i = 0\n",
    "total_elements = len(cc_imgs)\n",
    "\n",
    "\n",
    "# for img in pbar(cc_imgs):\n",
    "#     img_de = img.copy()\n",
    "#     #translate the caption\n",
    "#     caption_en = img_de['sentences'][0]['raw']\n",
    "#     caption_de = en2de.translate(caption_en) \n",
    "#     tokens_de = caption_de.split()\n",
    "#     #update img_de\n",
    "#     img_de['sentences'][0]['tokens'] = tokens_de\n",
    "#     img_de['sentences'][0]['raw'] = caption_de\n",
    "#     cc_data_de['images'].append(img_de)\n",
    "#     i += 1\n",
    "#     print(i)\n",
    "#     if i== 100:\n",
    "#         break\n",
    "batch_size = 32\n",
    "cc_data_de = {\"images\":[], \"dataset\": cc_data['dataset']}\n",
    "output_cc_data_path = '/'.join([data_path, \"dataset_cc_de.json\"])\n",
    "\n",
    "start_time = time.perf_counter()\n",
    "for i in range(0,total_elements,batch_size):\n",
    "    #form the batch of sentences\n",
    "    captions_en_batch = [x['sentences'][0]['raw'] for x in cc_imgs[i:i+batch_size]]\n",
    "    #print(captions_en_batch)\n",
    "    captions_de_batch = en2de.translate(captions_en_batch)\n",
    "    #print(captions_de_batch)\n",
    "    for j in range(i,i+batch_size):\n",
    "        cc_data['images'][j]['sentences'][0]['raw'] = captions_de_batch[j-i]\n",
    "        cc_data['images'][j]['sentences'][0]['tokens'] = captions_de_batch[j-i].split()\n",
    "#         print(captions_de_batch[j-i])\n",
    "#         print(cc_data['images'][j]['sentences'])\n",
    "#         print(j-i)\n",
    "        cc_data_de['images'].append(cc_data['images'][j])\n",
    "    \n",
    "    #save cc_data_de\n",
    "    if i == 0:\n",
    "        with open(output_cc_data_path, \"w\") as f_out:\n",
    "            json.dump(cc_data_de, f_out, indent=4, sort_keys=True)\n",
    "        break\n",
    "#print(cc_data_de[\"images\"][0])\n",
    "print(\"Finish translation of 300 data in {} seconds\".format(time.perf_counter()-start_time))\n",
    "\n",
    "#save the new data\n",
    "\n",
    "# with open(output_cc_data_path, \"w\") as f_out:\n",
    "#     json.dump(cc_data_de, f_out, indent=4, sort_keys=True)"
   ]
  },
  {
   "cell_type": "code",
   "execution_count": null,
   "metadata": {},
   "outputs": [],
   "source": []
  },
  {
   "cell_type": "code",
   "execution_count": null,
   "metadata": {},
   "outputs": [],
   "source": []
  }
 ],
 "metadata": {
  "kernelspec": {
   "display_name": "Python 3",
   "language": "python",
   "name": "python3"
  },
  "language_info": {
   "codemirror_mode": {
    "name": "ipython",
    "version": 3
   },
   "file_extension": ".py",
   "mimetype": "text/x-python",
   "name": "python",
   "nbconvert_exporter": "python",
   "pygments_lexer": "ipython3",
   "version": "3.8.3"
  }
 },
 "nbformat": 4,
 "nbformat_minor": 4
}
